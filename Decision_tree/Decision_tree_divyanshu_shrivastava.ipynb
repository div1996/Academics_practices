{
 "cells": [
  {
   "cell_type": "code",
   "execution_count": 1,
   "id": "aaae5f16",
   "metadata": {},
   "outputs": [],
   "source": [
    "import pandas as pd\n",
    "import numpy as np\n",
    "import matplotlib.pyplot as plt\n",
    "import seaborn as sns\n",
    "import warnings\n",
    "warnings.filterwarnings('ignore')\n",
    "from sklearn.feature_selection import SelectKBest,chi2,f_classif\n",
    "from sklearn.metrics import confusion_matrix,accuracy_score,auc,roc_curve\n",
    "from sklearn.model_selection import GridSearchCV\n",
    "from sklearn.model_selection import train_test_split\n",
    "from sklearn.preprocessing import StandardScaler\n",
    "from sklearn.model_selection import train_test_split\n",
    "from sklearn.tree import DecisionTreeClassifier\n",
    "from sklearn.metrics import plot_confusion_matrix\n",
    "from sklearn.preprocessing import label_binarize\n",
    "from sklearn.multiclass import OneVsRestClassifier"
   ]
  },
  {
   "cell_type": "markdown",
   "id": "087823f6",
   "metadata": {},
   "source": [
    "### Data Description"
   ]
  },
  {
   "cell_type": "markdown",
   "id": "8e5f1fd7",
   "metadata": {},
   "source": [
    "1. battery_power: Total energy a battery can store in one time measured in mAh\n",
    "2. blue: Has bluetooth or not\n",
    "3. clock_speed: speed at which microprocessor executes instructions\n",
    "4. dual_sim: Has dual sim support or not\n",
    "5. fc: Front Camera mega pixels\n",
    "6. four_g: Has 4G or not\n",
    "7. int_memory: Internal Memory in Gigabytes\n",
    "8. m_dep: Mobile Depth in cm\n",
    "9. mobile_wt: Weight of mobile phone\n",
    "10. n_cores: Number of cores of processor\n",
    "11. pc: Primary Camera mega pixels\n",
    "12. px_height: Pixel Resolution Height\n",
    "13. px_width: Pixel Resolution Width\n",
    "14. ram: Random Access Memory in Mega Bytes\n",
    "15. sc_h: Screen Height of mobile in cm\n",
    "16. sc_w: Screen Width of mobile in cm\n",
    "17. talk_time: longest time that a single battery charge will last when you are\n",
    "18. three_g: Has 3G or not\n",
    "19. touch_screen: Has touch screen or not\n",
    "20. wifi: Has wifi or not\n",
    "21. price_range: Target Variable, This is the target variable with value of 0(low cost), 1(medium cost), 2(high cost) and 3(very high cost)."
   ]
  },
  {
   "cell_type": "markdown",
   "id": "f46d1f1a",
   "metadata": {},
   "source": [
    "## 1. Reading the Data"
   ]
  },
  {
   "cell_type": "code",
   "execution_count": 2,
   "id": "78a9b08c",
   "metadata": {},
   "outputs": [],
   "source": [
    "df = pd.read_csv(\"train.csv\")"
   ]
  },
  {
   "cell_type": "markdown",
   "id": "c173d27e",
   "metadata": {},
   "source": [
    "## 2. Data Head"
   ]
  },
  {
   "cell_type": "code",
   "execution_count": 3,
   "id": "9cebfdd5",
   "metadata": {},
   "outputs": [
    {
     "data": {
      "text/html": [
       "<div>\n",
       "<style scoped>\n",
       "    .dataframe tbody tr th:only-of-type {\n",
       "        vertical-align: middle;\n",
       "    }\n",
       "\n",
       "    .dataframe tbody tr th {\n",
       "        vertical-align: top;\n",
       "    }\n",
       "\n",
       "    .dataframe thead th {\n",
       "        text-align: right;\n",
       "    }\n",
       "</style>\n",
       "<table border=\"1\" class=\"dataframe\">\n",
       "  <thead>\n",
       "    <tr style=\"text-align: right;\">\n",
       "      <th></th>\n",
       "      <th>battery_power</th>\n",
       "      <th>blue</th>\n",
       "      <th>clock_speed</th>\n",
       "      <th>dual_sim</th>\n",
       "      <th>fc</th>\n",
       "      <th>four_g</th>\n",
       "      <th>int_memory</th>\n",
       "      <th>m_dep</th>\n",
       "      <th>mobile_wt</th>\n",
       "      <th>n_cores</th>\n",
       "      <th>...</th>\n",
       "      <th>px_height</th>\n",
       "      <th>px_width</th>\n",
       "      <th>ram</th>\n",
       "      <th>sc_h</th>\n",
       "      <th>sc_w</th>\n",
       "      <th>talk_time</th>\n",
       "      <th>three_g</th>\n",
       "      <th>touch_screen</th>\n",
       "      <th>wifi</th>\n",
       "      <th>price_range</th>\n",
       "    </tr>\n",
       "  </thead>\n",
       "  <tbody>\n",
       "    <tr>\n",
       "      <th>0</th>\n",
       "      <td>842</td>\n",
       "      <td>0</td>\n",
       "      <td>2.2</td>\n",
       "      <td>0</td>\n",
       "      <td>1</td>\n",
       "      <td>0</td>\n",
       "      <td>7</td>\n",
       "      <td>0.6</td>\n",
       "      <td>188</td>\n",
       "      <td>2</td>\n",
       "      <td>...</td>\n",
       "      <td>20</td>\n",
       "      <td>756</td>\n",
       "      <td>2549</td>\n",
       "      <td>9</td>\n",
       "      <td>7</td>\n",
       "      <td>19</td>\n",
       "      <td>0</td>\n",
       "      <td>0</td>\n",
       "      <td>1</td>\n",
       "      <td>1</td>\n",
       "    </tr>\n",
       "    <tr>\n",
       "      <th>1</th>\n",
       "      <td>1021</td>\n",
       "      <td>1</td>\n",
       "      <td>0.5</td>\n",
       "      <td>1</td>\n",
       "      <td>0</td>\n",
       "      <td>1</td>\n",
       "      <td>53</td>\n",
       "      <td>0.7</td>\n",
       "      <td>136</td>\n",
       "      <td>3</td>\n",
       "      <td>...</td>\n",
       "      <td>905</td>\n",
       "      <td>1988</td>\n",
       "      <td>2631</td>\n",
       "      <td>17</td>\n",
       "      <td>3</td>\n",
       "      <td>7</td>\n",
       "      <td>1</td>\n",
       "      <td>1</td>\n",
       "      <td>0</td>\n",
       "      <td>2</td>\n",
       "    </tr>\n",
       "    <tr>\n",
       "      <th>2</th>\n",
       "      <td>563</td>\n",
       "      <td>1</td>\n",
       "      <td>0.5</td>\n",
       "      <td>1</td>\n",
       "      <td>2</td>\n",
       "      <td>1</td>\n",
       "      <td>41</td>\n",
       "      <td>0.9</td>\n",
       "      <td>145</td>\n",
       "      <td>5</td>\n",
       "      <td>...</td>\n",
       "      <td>1263</td>\n",
       "      <td>1716</td>\n",
       "      <td>2603</td>\n",
       "      <td>11</td>\n",
       "      <td>2</td>\n",
       "      <td>9</td>\n",
       "      <td>1</td>\n",
       "      <td>1</td>\n",
       "      <td>0</td>\n",
       "      <td>2</td>\n",
       "    </tr>\n",
       "    <tr>\n",
       "      <th>3</th>\n",
       "      <td>615</td>\n",
       "      <td>1</td>\n",
       "      <td>2.5</td>\n",
       "      <td>0</td>\n",
       "      <td>0</td>\n",
       "      <td>0</td>\n",
       "      <td>10</td>\n",
       "      <td>0.8</td>\n",
       "      <td>131</td>\n",
       "      <td>6</td>\n",
       "      <td>...</td>\n",
       "      <td>1216</td>\n",
       "      <td>1786</td>\n",
       "      <td>2769</td>\n",
       "      <td>16</td>\n",
       "      <td>8</td>\n",
       "      <td>11</td>\n",
       "      <td>1</td>\n",
       "      <td>0</td>\n",
       "      <td>0</td>\n",
       "      <td>2</td>\n",
       "    </tr>\n",
       "    <tr>\n",
       "      <th>4</th>\n",
       "      <td>1821</td>\n",
       "      <td>1</td>\n",
       "      <td>1.2</td>\n",
       "      <td>0</td>\n",
       "      <td>13</td>\n",
       "      <td>1</td>\n",
       "      <td>44</td>\n",
       "      <td>0.6</td>\n",
       "      <td>141</td>\n",
       "      <td>2</td>\n",
       "      <td>...</td>\n",
       "      <td>1208</td>\n",
       "      <td>1212</td>\n",
       "      <td>1411</td>\n",
       "      <td>8</td>\n",
       "      <td>2</td>\n",
       "      <td>15</td>\n",
       "      <td>1</td>\n",
       "      <td>1</td>\n",
       "      <td>0</td>\n",
       "      <td>1</td>\n",
       "    </tr>\n",
       "  </tbody>\n",
       "</table>\n",
       "<p>5 rows × 21 columns</p>\n",
       "</div>"
      ],
      "text/plain": [
       "   battery_power  blue  clock_speed  dual_sim  fc  four_g  int_memory  m_dep  \\\n",
       "0            842     0          2.2         0   1       0           7    0.6   \n",
       "1           1021     1          0.5         1   0       1          53    0.7   \n",
       "2            563     1          0.5         1   2       1          41    0.9   \n",
       "3            615     1          2.5         0   0       0          10    0.8   \n",
       "4           1821     1          1.2         0  13       1          44    0.6   \n",
       "\n",
       "   mobile_wt  n_cores  ...  px_height  px_width   ram  sc_h  sc_w  talk_time  \\\n",
       "0        188        2  ...         20       756  2549     9     7         19   \n",
       "1        136        3  ...        905      1988  2631    17     3          7   \n",
       "2        145        5  ...       1263      1716  2603    11     2          9   \n",
       "3        131        6  ...       1216      1786  2769    16     8         11   \n",
       "4        141        2  ...       1208      1212  1411     8     2         15   \n",
       "\n",
       "   three_g  touch_screen  wifi  price_range  \n",
       "0        0             0     1            1  \n",
       "1        1             1     0            2  \n",
       "2        1             1     0            2  \n",
       "3        1             0     0            2  \n",
       "4        1             1     0            1  \n",
       "\n",
       "[5 rows x 21 columns]"
      ]
     },
     "execution_count": 3,
     "metadata": {},
     "output_type": "execute_result"
    }
   ],
   "source": [
    "df.head()"
   ]
  },
  {
   "cell_type": "markdown",
   "id": "0b405435",
   "metadata": {},
   "source": [
    "Dataset is already in a coded format we don't need to perform the coding for categorical features."
   ]
  },
  {
   "cell_type": "markdown",
   "id": "e4ecf81f",
   "metadata": {},
   "source": [
    "## 3. Describe data"
   ]
  },
  {
   "cell_type": "code",
   "execution_count": 4,
   "id": "fd5ead33",
   "metadata": {},
   "outputs": [
    {
     "data": {
      "text/html": [
       "<div>\n",
       "<style scoped>\n",
       "    .dataframe tbody tr th:only-of-type {\n",
       "        vertical-align: middle;\n",
       "    }\n",
       "\n",
       "    .dataframe tbody tr th {\n",
       "        vertical-align: top;\n",
       "    }\n",
       "\n",
       "    .dataframe thead th {\n",
       "        text-align: right;\n",
       "    }\n",
       "</style>\n",
       "<table border=\"1\" class=\"dataframe\">\n",
       "  <thead>\n",
       "    <tr style=\"text-align: right;\">\n",
       "      <th></th>\n",
       "      <th>count</th>\n",
       "      <th>mean</th>\n",
       "      <th>std</th>\n",
       "      <th>min</th>\n",
       "      <th>25%</th>\n",
       "      <th>50%</th>\n",
       "      <th>75%</th>\n",
       "      <th>max</th>\n",
       "    </tr>\n",
       "  </thead>\n",
       "  <tbody>\n",
       "    <tr>\n",
       "      <th>battery_power</th>\n",
       "      <td>2000.0</td>\n",
       "      <td>1238.51850</td>\n",
       "      <td>439.418206</td>\n",
       "      <td>501.0</td>\n",
       "      <td>851.75</td>\n",
       "      <td>1226.0</td>\n",
       "      <td>1615.25</td>\n",
       "      <td>1998.0</td>\n",
       "    </tr>\n",
       "    <tr>\n",
       "      <th>blue</th>\n",
       "      <td>2000.0</td>\n",
       "      <td>0.49500</td>\n",
       "      <td>0.500100</td>\n",
       "      <td>0.0</td>\n",
       "      <td>0.00</td>\n",
       "      <td>0.0</td>\n",
       "      <td>1.00</td>\n",
       "      <td>1.0</td>\n",
       "    </tr>\n",
       "    <tr>\n",
       "      <th>clock_speed</th>\n",
       "      <td>2000.0</td>\n",
       "      <td>1.52225</td>\n",
       "      <td>0.816004</td>\n",
       "      <td>0.5</td>\n",
       "      <td>0.70</td>\n",
       "      <td>1.5</td>\n",
       "      <td>2.20</td>\n",
       "      <td>3.0</td>\n",
       "    </tr>\n",
       "    <tr>\n",
       "      <th>dual_sim</th>\n",
       "      <td>2000.0</td>\n",
       "      <td>0.50950</td>\n",
       "      <td>0.500035</td>\n",
       "      <td>0.0</td>\n",
       "      <td>0.00</td>\n",
       "      <td>1.0</td>\n",
       "      <td>1.00</td>\n",
       "      <td>1.0</td>\n",
       "    </tr>\n",
       "    <tr>\n",
       "      <th>fc</th>\n",
       "      <td>2000.0</td>\n",
       "      <td>4.30950</td>\n",
       "      <td>4.341444</td>\n",
       "      <td>0.0</td>\n",
       "      <td>1.00</td>\n",
       "      <td>3.0</td>\n",
       "      <td>7.00</td>\n",
       "      <td>19.0</td>\n",
       "    </tr>\n",
       "    <tr>\n",
       "      <th>four_g</th>\n",
       "      <td>2000.0</td>\n",
       "      <td>0.52150</td>\n",
       "      <td>0.499662</td>\n",
       "      <td>0.0</td>\n",
       "      <td>0.00</td>\n",
       "      <td>1.0</td>\n",
       "      <td>1.00</td>\n",
       "      <td>1.0</td>\n",
       "    </tr>\n",
       "    <tr>\n",
       "      <th>int_memory</th>\n",
       "      <td>2000.0</td>\n",
       "      <td>32.04650</td>\n",
       "      <td>18.145715</td>\n",
       "      <td>2.0</td>\n",
       "      <td>16.00</td>\n",
       "      <td>32.0</td>\n",
       "      <td>48.00</td>\n",
       "      <td>64.0</td>\n",
       "    </tr>\n",
       "    <tr>\n",
       "      <th>m_dep</th>\n",
       "      <td>2000.0</td>\n",
       "      <td>0.50175</td>\n",
       "      <td>0.288416</td>\n",
       "      <td>0.1</td>\n",
       "      <td>0.20</td>\n",
       "      <td>0.5</td>\n",
       "      <td>0.80</td>\n",
       "      <td>1.0</td>\n",
       "    </tr>\n",
       "    <tr>\n",
       "      <th>mobile_wt</th>\n",
       "      <td>2000.0</td>\n",
       "      <td>140.24900</td>\n",
       "      <td>35.399655</td>\n",
       "      <td>80.0</td>\n",
       "      <td>109.00</td>\n",
       "      <td>141.0</td>\n",
       "      <td>170.00</td>\n",
       "      <td>200.0</td>\n",
       "    </tr>\n",
       "    <tr>\n",
       "      <th>n_cores</th>\n",
       "      <td>2000.0</td>\n",
       "      <td>4.52050</td>\n",
       "      <td>2.287837</td>\n",
       "      <td>1.0</td>\n",
       "      <td>3.00</td>\n",
       "      <td>4.0</td>\n",
       "      <td>7.00</td>\n",
       "      <td>8.0</td>\n",
       "    </tr>\n",
       "    <tr>\n",
       "      <th>pc</th>\n",
       "      <td>2000.0</td>\n",
       "      <td>9.91650</td>\n",
       "      <td>6.064315</td>\n",
       "      <td>0.0</td>\n",
       "      <td>5.00</td>\n",
       "      <td>10.0</td>\n",
       "      <td>15.00</td>\n",
       "      <td>20.0</td>\n",
       "    </tr>\n",
       "    <tr>\n",
       "      <th>px_height</th>\n",
       "      <td>2000.0</td>\n",
       "      <td>645.10800</td>\n",
       "      <td>443.780811</td>\n",
       "      <td>0.0</td>\n",
       "      <td>282.75</td>\n",
       "      <td>564.0</td>\n",
       "      <td>947.25</td>\n",
       "      <td>1960.0</td>\n",
       "    </tr>\n",
       "    <tr>\n",
       "      <th>px_width</th>\n",
       "      <td>2000.0</td>\n",
       "      <td>1251.51550</td>\n",
       "      <td>432.199447</td>\n",
       "      <td>500.0</td>\n",
       "      <td>874.75</td>\n",
       "      <td>1247.0</td>\n",
       "      <td>1633.00</td>\n",
       "      <td>1998.0</td>\n",
       "    </tr>\n",
       "    <tr>\n",
       "      <th>ram</th>\n",
       "      <td>2000.0</td>\n",
       "      <td>2124.21300</td>\n",
       "      <td>1084.732044</td>\n",
       "      <td>256.0</td>\n",
       "      <td>1207.50</td>\n",
       "      <td>2146.5</td>\n",
       "      <td>3064.50</td>\n",
       "      <td>3998.0</td>\n",
       "    </tr>\n",
       "    <tr>\n",
       "      <th>sc_h</th>\n",
       "      <td>2000.0</td>\n",
       "      <td>12.30650</td>\n",
       "      <td>4.213245</td>\n",
       "      <td>5.0</td>\n",
       "      <td>9.00</td>\n",
       "      <td>12.0</td>\n",
       "      <td>16.00</td>\n",
       "      <td>19.0</td>\n",
       "    </tr>\n",
       "    <tr>\n",
       "      <th>sc_w</th>\n",
       "      <td>2000.0</td>\n",
       "      <td>5.76700</td>\n",
       "      <td>4.356398</td>\n",
       "      <td>0.0</td>\n",
       "      <td>2.00</td>\n",
       "      <td>5.0</td>\n",
       "      <td>9.00</td>\n",
       "      <td>18.0</td>\n",
       "    </tr>\n",
       "    <tr>\n",
       "      <th>talk_time</th>\n",
       "      <td>2000.0</td>\n",
       "      <td>11.01100</td>\n",
       "      <td>5.463955</td>\n",
       "      <td>2.0</td>\n",
       "      <td>6.00</td>\n",
       "      <td>11.0</td>\n",
       "      <td>16.00</td>\n",
       "      <td>20.0</td>\n",
       "    </tr>\n",
       "    <tr>\n",
       "      <th>three_g</th>\n",
       "      <td>2000.0</td>\n",
       "      <td>0.76150</td>\n",
       "      <td>0.426273</td>\n",
       "      <td>0.0</td>\n",
       "      <td>1.00</td>\n",
       "      <td>1.0</td>\n",
       "      <td>1.00</td>\n",
       "      <td>1.0</td>\n",
       "    </tr>\n",
       "    <tr>\n",
       "      <th>touch_screen</th>\n",
       "      <td>2000.0</td>\n",
       "      <td>0.50300</td>\n",
       "      <td>0.500116</td>\n",
       "      <td>0.0</td>\n",
       "      <td>0.00</td>\n",
       "      <td>1.0</td>\n",
       "      <td>1.00</td>\n",
       "      <td>1.0</td>\n",
       "    </tr>\n",
       "    <tr>\n",
       "      <th>wifi</th>\n",
       "      <td>2000.0</td>\n",
       "      <td>0.50700</td>\n",
       "      <td>0.500076</td>\n",
       "      <td>0.0</td>\n",
       "      <td>0.00</td>\n",
       "      <td>1.0</td>\n",
       "      <td>1.00</td>\n",
       "      <td>1.0</td>\n",
       "    </tr>\n",
       "    <tr>\n",
       "      <th>price_range</th>\n",
       "      <td>2000.0</td>\n",
       "      <td>1.50000</td>\n",
       "      <td>1.118314</td>\n",
       "      <td>0.0</td>\n",
       "      <td>0.75</td>\n",
       "      <td>1.5</td>\n",
       "      <td>2.25</td>\n",
       "      <td>3.0</td>\n",
       "    </tr>\n",
       "  </tbody>\n",
       "</table>\n",
       "</div>"
      ],
      "text/plain": [
       "                count        mean          std    min      25%     50%  \\\n",
       "battery_power  2000.0  1238.51850   439.418206  501.0   851.75  1226.0   \n",
       "blue           2000.0     0.49500     0.500100    0.0     0.00     0.0   \n",
       "clock_speed    2000.0     1.52225     0.816004    0.5     0.70     1.5   \n",
       "dual_sim       2000.0     0.50950     0.500035    0.0     0.00     1.0   \n",
       "fc             2000.0     4.30950     4.341444    0.0     1.00     3.0   \n",
       "four_g         2000.0     0.52150     0.499662    0.0     0.00     1.0   \n",
       "int_memory     2000.0    32.04650    18.145715    2.0    16.00    32.0   \n",
       "m_dep          2000.0     0.50175     0.288416    0.1     0.20     0.5   \n",
       "mobile_wt      2000.0   140.24900    35.399655   80.0   109.00   141.0   \n",
       "n_cores        2000.0     4.52050     2.287837    1.0     3.00     4.0   \n",
       "pc             2000.0     9.91650     6.064315    0.0     5.00    10.0   \n",
       "px_height      2000.0   645.10800   443.780811    0.0   282.75   564.0   \n",
       "px_width       2000.0  1251.51550   432.199447  500.0   874.75  1247.0   \n",
       "ram            2000.0  2124.21300  1084.732044  256.0  1207.50  2146.5   \n",
       "sc_h           2000.0    12.30650     4.213245    5.0     9.00    12.0   \n",
       "sc_w           2000.0     5.76700     4.356398    0.0     2.00     5.0   \n",
       "talk_time      2000.0    11.01100     5.463955    2.0     6.00    11.0   \n",
       "three_g        2000.0     0.76150     0.426273    0.0     1.00     1.0   \n",
       "touch_screen   2000.0     0.50300     0.500116    0.0     0.00     1.0   \n",
       "wifi           2000.0     0.50700     0.500076    0.0     0.00     1.0   \n",
       "price_range    2000.0     1.50000     1.118314    0.0     0.75     1.5   \n",
       "\n",
       "                   75%     max  \n",
       "battery_power  1615.25  1998.0  \n",
       "blue              1.00     1.0  \n",
       "clock_speed       2.20     3.0  \n",
       "dual_sim          1.00     1.0  \n",
       "fc                7.00    19.0  \n",
       "four_g            1.00     1.0  \n",
       "int_memory       48.00    64.0  \n",
       "m_dep             0.80     1.0  \n",
       "mobile_wt       170.00   200.0  \n",
       "n_cores           7.00     8.0  \n",
       "pc               15.00    20.0  \n",
       "px_height       947.25  1960.0  \n",
       "px_width       1633.00  1998.0  \n",
       "ram            3064.50  3998.0  \n",
       "sc_h             16.00    19.0  \n",
       "sc_w              9.00    18.0  \n",
       "talk_time        16.00    20.0  \n",
       "three_g           1.00     1.0  \n",
       "touch_screen      1.00     1.0  \n",
       "wifi              1.00     1.0  \n",
       "price_range       2.25     3.0  "
      ]
     },
     "execution_count": 4,
     "metadata": {},
     "output_type": "execute_result"
    }
   ],
   "source": [
    "df.describe().T"
   ]
  },
  {
   "cell_type": "code",
   "execution_count": 5,
   "id": "37ea69a5",
   "metadata": {},
   "outputs": [
    {
     "name": "stdout",
     "output_type": "stream",
     "text": [
      "<class 'pandas.core.frame.DataFrame'>\n",
      "RangeIndex: 2000 entries, 0 to 1999\n",
      "Data columns (total 21 columns):\n",
      " #   Column         Non-Null Count  Dtype  \n",
      "---  ------         --------------  -----  \n",
      " 0   battery_power  2000 non-null   int64  \n",
      " 1   blue           2000 non-null   int64  \n",
      " 2   clock_speed    2000 non-null   float64\n",
      " 3   dual_sim       2000 non-null   int64  \n",
      " 4   fc             2000 non-null   int64  \n",
      " 5   four_g         2000 non-null   int64  \n",
      " 6   int_memory     2000 non-null   int64  \n",
      " 7   m_dep          2000 non-null   float64\n",
      " 8   mobile_wt      2000 non-null   int64  \n",
      " 9   n_cores        2000 non-null   int64  \n",
      " 10  pc             2000 non-null   int64  \n",
      " 11  px_height      2000 non-null   int64  \n",
      " 12  px_width       2000 non-null   int64  \n",
      " 13  ram            2000 non-null   int64  \n",
      " 14  sc_h           2000 non-null   int64  \n",
      " 15  sc_w           2000 non-null   int64  \n",
      " 16  talk_time      2000 non-null   int64  \n",
      " 17  three_g        2000 non-null   int64  \n",
      " 18  touch_screen   2000 non-null   int64  \n",
      " 19  wifi           2000 non-null   int64  \n",
      " 20  price_range    2000 non-null   int64  \n",
      "dtypes: float64(2), int64(19)\n",
      "memory usage: 328.2 KB\n"
     ]
    }
   ],
   "source": [
    "df.info()"
   ]
  },
  {
   "cell_type": "markdown",
   "id": "d8e68312",
   "metadata": {},
   "source": [
    "## Null Values "
   ]
  },
  {
   "cell_type": "code",
   "execution_count": 6,
   "id": "b8a71906",
   "metadata": {},
   "outputs": [
    {
     "data": {
      "image/png": "[encoded data removed]",
      "text/plain": [
       "<Figure size 864x432 with 1 Axes>"
      ]
     },
     "metadata": {
      "needs_background": "light"
     },
     "output_type": "display_data"
    }
   ],
   "source": [
    "plt.figure(figsize=(12,6))\n",
    "sns.heatmap(df.isna(),cbar=False)\n",
    "plt.title(\"NA Values\",fontsize=20)\n",
    "plt.xlabel(\"Features\",fontsize=15)\n",
    "plt.ylabel(\"Records\",fontsize = 15)\n",
    "plt.show()"
   ]
  },
  {
   "cell_type": "markdown",
   "id": "b55341be",
   "metadata": {},
   "source": [
    "There is no NA values in the dataframe."
   ]
  },
  {
   "cell_type": "markdown",
   "id": "9c8a827c",
   "metadata": {},
   "source": [
    "## Data Balanced"
   ]
  },
  {
   "cell_type": "code",
   "execution_count": 7,
   "id": "353a0b79",
   "metadata": {},
   "outputs": [
    {
     "data": {
      "image/png": "[encoded data removed]",
      "text/plain": [
       "<Figure size 864x432 with 1 Axes>"
      ]
     },
     "metadata": {
      "needs_background": "light"
     },
     "output_type": "display_data"
    }
   ],
   "source": [
    "plt.figure(figsize=(12,6))\n",
    "sns.countplot(df.price_range,color='darkcyan')\n",
    "plt.title(\"Class label\",fontsize=20)\n",
    "plt.xlabel(\"Class\",fontsize = 15)\n",
    "plt.ylabel(\"Frequency\", fontsize = 15)\n",
    "plt.xticks([0,1,2,3],['Low Cost', 'Medium Cost', 'High Cost','Very High Cost'],fontsize = 12)\n",
    "plt.show()"
   ]
  },
  {
   "cell_type": "markdown",
   "id": "f45b823b",
   "metadata": {},
   "source": [
    "Data is balanced for all the class."
   ]
  },
  {
   "cell_type": "markdown",
   "id": "4df7fd86",
   "metadata": {},
   "source": [
    "## Correlation Plot"
   ]
  },
  {
   "cell_type": "code",
   "execution_count": 8,
   "id": "72834791",
   "metadata": {},
   "outputs": [],
   "source": [
    "df_cor = df.corr('spearman')"
   ]
  },
  {
   "cell_type": "code",
   "execution_count": 9,
   "id": "98aba301",
   "metadata": {},
   "outputs": [],
   "source": [
    "mask=np.triu(np.ones(df_cor.shape)).astype(np.bool)"
   ]
  },
  {
   "cell_type": "code",
   "execution_count": 10,
   "id": "a23ae7c7",
   "metadata": {},
   "outputs": [
    {
     "data": {
      "text/plain": [
       "Text(0.5, 1.0, 'Correlation Matrix')"
      ]
     },
     "execution_count": 10,
     "metadata": {},
     "output_type": "execute_result"
    },
    {
     "data": {
      "image/png": "[encoded data removed]",
      "text/plain": [
       "<Figure size 1296x648 with 2 Axes>"
      ]
     },
     "metadata": {
      "needs_background": "light"
     },
     "output_type": "display_data"
    }
   ],
   "source": [
    "plt.figure(figsize=(18,9))\n",
    "sns.heatmap(round(df_cor,2),annot=True,mask=mask,vmin=-1, vmax=1,cmap = 'summer')\n",
    "plt.title(\"Correlation Matrix\",fontsize = 20)"
   ]
  },
  {
   "cell_type": "markdown",
   "id": "591613e7",
   "metadata": {},
   "source": [
    "There is no correlation in the features where as ram is the only feature which is highly correlated with the price range to insure that we will perform the chi-square test for feature selection for categorical features and to test the independency."
   ]
  },
  {
   "cell_type": "markdown",
   "id": "68bbacb8",
   "metadata": {},
   "source": [
    "## Distribution Clock speed for each price range"
   ]
  },
  {
   "cell_type": "code",
   "execution_count": 11,
   "id": "f8b49904",
   "metadata": {},
   "outputs": [
    {
     "data": {
      "text/plain": [
       "<AxesSubplot:xlabel='clock_speed', ylabel='Density'>"
      ]
     },
     "execution_count": 11,
     "metadata": {},
     "output_type": "execute_result"
    },
    {
     "data": {
      "image/png": "[encoded data removed]",
      "text/plain": [
       "<Figure size 720x576 with 1 Axes>"
      ]
     },
     "metadata": {
      "needs_background": "light"
     },
     "output_type": "display_data"
    }
   ],
   "source": [
    "plt.figure(figsize = (10,8))\n",
    "sns.distplot(df.loc[df[\"price_range\"] == 0][\"clock_speed\"])\n",
    "sns.distplot(df.loc[df[\"price_range\"] == 1][\"clock_speed\"])\n",
    "sns.distplot(df.loc[df[\"price_range\"] == 2][\"clock_speed\"])\n",
    "sns.distplot(df.loc[df[\"price_range\"] == 3][\"clock_speed\"])\n",
    "\n",
    "#from the histogram the interpretation is a)each of the groups looks to be normal b) between the group variance looks to be quite less therefore ANOVA is the right tool"
   ]
  },
  {
   "cell_type": "markdown",
   "id": "0f45cf8b",
   "metadata": {},
   "source": [
    "Clock speed is not a normally distributed for all the classes we have, where as the variability is very less seems here."
   ]
  },
  {
   "cell_type": "markdown",
   "id": "2353fc96",
   "metadata": {},
   "source": [
    "## Distributing in Dependent and Independent variables."
   ]
  },
  {
   "cell_type": "code",
   "execution_count": 12,
   "id": "502b2963",
   "metadata": {},
   "outputs": [],
   "source": [
    "X = df.drop('price_range',axis=1)\n",
    "y= df.price_range"
   ]
  },
  {
   "cell_type": "markdown",
   "id": "5a44279c",
   "metadata": {},
   "source": [
    "## Feature Scaling"
   ]
  },
  {
   "cell_type": "code",
   "execution_count": 13,
   "id": "c558c5eb",
   "metadata": {},
   "outputs": [],
   "source": [
    "sc = StandardScaler()\n",
    "\n",
    "x = sc.fit_transform(X)"
   ]
  },
  {
   "cell_type": "markdown",
   "id": "d7109e4f",
   "metadata": {},
   "source": [
    "Scaling the feature by using Standard scaler. which scale the feature where mean of the feature is about to 0 and standard deviation is 1."
   ]
  },
  {
   "cell_type": "markdown",
   "id": "55ed5b52",
   "metadata": {},
   "source": [
    "## Data Split."
   ]
  },
  {
   "cell_type": "code",
   "execution_count": 14,
   "id": "11c74bb1",
   "metadata": {},
   "outputs": [],
   "source": [
    "X_train,X_test,y_train,y_test = train_test_split(x, y, test_size=0.33, random_state=42)"
   ]
  },
  {
   "cell_type": "markdown",
   "id": "745ab130",
   "metadata": {},
   "source": [
    "Splitting data in the training and testing in the ratio of 77:33."
   ]
  },
  {
   "cell_type": "markdown",
   "id": "c497a97e",
   "metadata": {},
   "source": [
    "## Modelling on default features"
   ]
  },
  {
   "cell_type": "code",
   "execution_count": 15,
   "id": "6b3a0994",
   "metadata": {},
   "outputs": [],
   "source": [
    "dt_model = DecisionTreeClassifier()"
   ]
  },
  {
   "cell_type": "code",
   "execution_count": 16,
   "id": "07cec8cc",
   "metadata": {},
   "outputs": [
    {
     "data": {
      "text/plain": [
       "DecisionTreeClassifier()"
      ]
     },
     "execution_count": 16,
     "metadata": {},
     "output_type": "execute_result"
    }
   ],
   "source": [
    "dt_model.fit(X_train,y_train)"
   ]
  },
  {
   "cell_type": "code",
   "execution_count": 17,
   "id": "fff579de",
   "metadata": {},
   "outputs": [],
   "source": [
    "y_pred = dt_model.predict(X_test) # Predicting the x test "
   ]
  },
  {
   "cell_type": "code",
   "execution_count": 18,
   "id": "44a18d77",
   "metadata": {},
   "outputs": [
    {
     "name": "stdout",
     "output_type": "stream",
     "text": [
      "Training set score: 1.0000\n",
      "Test set score: 0.8197\n"
     ]
    }
   ],
   "source": [
    "\n",
    "print('Training set score: {:.4f}'.format(dt_model.score(X_train, y_train)))\n",
    "\n",
    "print('Test set score: {:.4f}'.format(dt_model.score(X_test, y_test)))"
   ]
  },
  {
   "cell_type": "markdown",
   "id": "ceac1692",
   "metadata": {},
   "source": [
    "Training score is 1% and where as testing score is 82 % which shows that the model is in overfit condition, will handle this in further procedure."
   ]
  },
  {
   "cell_type": "code",
   "execution_count": 19,
   "id": "17777f36",
   "metadata": {},
   "outputs": [],
   "source": [
    "class_names = ['Low cost','Medium cost','High cost','Very High cost']"
   ]
  },
  {
   "cell_type": "code",
   "execution_count": 20,
   "id": "6ad4b0c1",
   "metadata": {},
   "outputs": [
    {
     "data": {
      "image/png": "[encoded data removed]",
      "text/plain": [
       "<Figure size 432x288 with 1 Axes>"
      ]
     },
     "metadata": {
      "needs_background": "light"
     },
     "output_type": "display_data"
    }
   ],
   "source": [
    "disp = plot_confusion_matrix(dt_model, X_test, y_test,\n",
    "                                 display_labels=class_names,\n",
    "                                 cmap=plt.cm.Blues,xticks_rotation='vertical',colorbar=False)\n",
    "plt.show()"
   ]
  },
  {
   "cell_type": "markdown",
   "id": "803bd237",
   "metadata": {},
   "source": [
    "#### Null Accuracy for each class"
   ]
  },
  {
   "cell_type": "code",
   "execution_count": 21,
   "id": "b1abf633",
   "metadata": {},
   "outputs": [
    {
     "name": "stdout",
     "output_type": "stream",
     "text": [
      "Null accuracy for class 0 is 0.74\n",
      "Null accuracy for class 1 is 0.75\n",
      "Null accuracy for class 2 is 0.75\n",
      "Null accuracy for class 3 is 0.75\n"
     ]
    }
   ],
   "source": [
    "for i in range(4):\n",
    "    print(f\"Null accuracy for class {i} is {round(y_test.value_counts()[y_test.value_counts().index!=i].sum()/y_test.value_counts().sum(),2)}\")"
   ]
  },
  {
   "cell_type": "markdown",
   "id": "e3aa5c43",
   "metadata": {},
   "source": [
    "Where as our model accuracy is 82% on testing set out of this null accuracy are an average of 75% for each category. I have calculate the accuracy for each class in below."
   ]
  },
  {
   "cell_type": "markdown",
   "id": "49b78dfa",
   "metadata": {},
   "source": [
    "## All Features model performance"
   ]
  },
  {
   "cell_type": "code",
   "execution_count": 53,
   "id": "364711d0",
   "metadata": {},
   "outputs": [],
   "source": [
    "cnf_matrix =  confusion_matrix(y_test,y_pred)"
   ]
  },
  {
   "cell_type": "code",
   "execution_count": 54,
   "id": "873e238d",
   "metadata": {},
   "outputs": [],
   "source": [
    "def classes(class_label=0,cnf_matrix = confusion_matrix(y_test,y_pred)):\n",
    "    FP = (cnf_matrix.sum(axis=0) - np.diag(cnf_matrix)).astype(float)\n",
    "    FN = (cnf_matrix.sum(axis=1) - np.diag(cnf_matrix)).astype(float)\n",
    "    TP = np.diag(cnf_matrix).astype(float)\n",
    "    TN = (cnf_matrix.sum() - (FP + FN + TP)).astype(float)\n",
    "\n",
    "    # Sensitivity, hit rate, recall, or true positive rate\n",
    "    TPR = TP/(TP+FN)\n",
    "    # Specificity or true negative rate\n",
    "    TNR = TN/(TN+FP) \n",
    "    # Precision or positive predictive value\n",
    "    PPV = TP/(TP+FP)\n",
    "    # Negative predictive value\n",
    "    NPV = TN/(TN+FN)\n",
    "    # Fall out or false positive rate\n",
    "    FPR = FP/(FP+TN)\n",
    "    # False negative rate\n",
    "    FNR = FN/(TP+FN)\n",
    "    # False discovery rate\n",
    "    FDR = FP/(TP+FP)\n",
    "    # Overall accuracy for each class\n",
    "    ACC = (TP+TN)/(TP+FP+FN+TN)\n",
    "    \n",
    "    #Null accuracy\n",
    "    null_acc = round((y_test.value_counts()[y_test.value_counts().index!=class_label].sum()/y_test.value_counts().sum())*100,2)\n",
    "    \n",
    "    \n",
    "    print(f\"False Positive for {class_label} are {FP[class_label]}\",'\\n\\n',\n",
    "          f\"False Negative for {class_label} are {FN[class_label]}\",'\\n\\n',\n",
    "          f\"True Positive for {class_label} are {TP[class_label]}\",'\\n\\n',\n",
    "          f\"True Negative for {class_label} are {TN[class_label]}\",'\\n\\n',\n",
    "          f\"Sensitivity for {class_label} are {TPR[class_label]}\",'\\n\\n',\n",
    "          f\"Specificity for {class_label} are {TNR[class_label]}\",'\\n\\n',\n",
    "          f\"Precision for {class_label} are {PPV[class_label]}\",'\\n\\n',\n",
    "          f\"Negative predictive value for {class_label} are {NPV[class_label]}\",'\\n\\n',\n",
    "          f\"false positive rate for {class_label} are {FPR[class_label]}\",'\\n\\n',\n",
    "          f\"False negative rate for {class_label} are {FNR[class_label]}\",'\\n\\n',\n",
    "          f\"False discovery rate for {class_label} are {FDR[class_label]}\",'\\n\\n',\n",
    "          f\"Overall accuracy for {class_label} are {ACC[class_label]}\",'\\n\\n',\n",
    "          f\"Null accuracy for {class_label} are {null_acc}\",'\\n\\n',\n",
    "          \n",
    "          \"===================================================================\"   \n",
    "          \n",
    "         )"
   ]
  },
  {
   "cell_type": "code",
   "execution_count": 55,
   "id": "d80b8f60",
   "metadata": {},
   "outputs": [
    {
     "name": "stdout",
     "output_type": "stream",
     "text": [
      "False Positive for 1 are 40.0 \n",
      "\n",
      " False Negative for 1 are 31.0 \n",
      "\n",
      " True Positive for 1 are 131.0 \n",
      "\n",
      " True Negative for 1 are 458.0 \n",
      "\n",
      " Sensitivity for 1 are 0.808641975308642 \n",
      "\n",
      " Specificity for 1 are 0.9196787148594378 \n",
      "\n",
      " Precision for 1 are 0.7660818713450293 \n",
      "\n",
      " Negative predictive value for 1 are 0.9366053169734151 \n",
      "\n",
      " false positive rate for 1 are 0.08032128514056225 \n",
      "\n",
      " False negative rate for 1 are 0.19135802469135801 \n",
      "\n",
      " False discovery rate for 1 are 0.23391812865497075 \n",
      "\n",
      " Overall accuracy for 1 are 0.8924242424242425 \n",
      "\n",
      " Null accuracy for 1 are 75.45 \n",
      "\n",
      " ===================================================================\n"
     ]
    }
   ],
   "source": [
    "classes(1)"
   ]
  },
  {
   "cell_type": "markdown",
   "id": "cc096395",
   "metadata": {},
   "source": [
    "## Modeling after Feature selection using anova test."
   ]
  },
  {
   "cell_type": "code",
   "execution_count": 56,
   "id": "50616e27",
   "metadata": {},
   "outputs": [],
   "source": [
    "X = df.drop('price_range',axis=1)\n",
    "y= df.price_range"
   ]
  },
  {
   "cell_type": "code",
   "execution_count": 57,
   "id": "580f2d84",
   "metadata": {},
   "outputs": [],
   "source": [
    "sc = StandardScaler()\n",
    "x = sc.fit_transform(X)"
   ]
  },
  {
   "cell_type": "markdown",
   "id": "9a459d36",
   "metadata": {},
   "source": [
    "Selecting top 10 features out of the 20 features by using anova test or f_classifier."
   ]
  },
  {
   "cell_type": "code",
   "execution_count": 58,
   "id": "e0220dbb",
   "metadata": {
    "scrolled": true
   },
   "outputs": [],
   "source": [
    "fvalue_Best = SelectKBest(f_classif, k=10)\n",
    "X_kbest = fvalue_Best.fit_transform(x, y)"
   ]
  },
  {
   "cell_type": "code",
   "execution_count": 59,
   "id": "ef8c107f",
   "metadata": {},
   "outputs": [],
   "source": [
    "temp = pd.Series(fvalue_Best.scores_)\n",
    "temp.index = X.columns\n",
    "temp.sort_values(ascending=True,inplace=True)"
   ]
  },
  {
   "cell_type": "code",
   "execution_count": 60,
   "id": "94073c68",
   "metadata": {},
   "outputs": [
    {
     "data": {
      "image/png": "[encoded data removed]",
      "text/plain": [
       "<Figure size 1296x648 with 1 Axes>"
      ]
     },
     "metadata": {
      "needs_background": "light"
     },
     "output_type": "display_data"
    }
   ],
   "source": [
    "plt.figure(figsize=(18,9))\n",
    "sns.barplot(x = temp.index , y = temp.values,palette='Pastel1')\n",
    "plt.title(\"Feature Importance based on Anova F-test\",fontsize=20)\n",
    "plt.xlabel(\"Features\",fontsize=15)\n",
    "plt.ylabel(\"Importance\",fontsize=15)\n",
    "plt.xticks(fontsize=12,rotation=90)\n",
    "plt.show()"
   ]
  },
  {
   "cell_type": "markdown",
   "id": "b961de75",
   "metadata": {},
   "source": [
    "Only RAM, Battery power, px_height, mobile weights are showing higher significance for the feature selection will select the top 15 features based on their performance."
   ]
  },
  {
   "cell_type": "markdown",
   "id": "106ca9cd",
   "metadata": {},
   "source": [
    "## Data Split."
   ]
  },
  {
   "cell_type": "code",
   "execution_count": 61,
   "id": "21254269",
   "metadata": {},
   "outputs": [],
   "source": [
    "X_train,X_test,y_train,y_test = train_test_split(X_kbest, y, test_size=0.33, random_state=42)"
   ]
  },
  {
   "cell_type": "markdown",
   "id": "b56a9ac3",
   "metadata": {},
   "source": [
    "## Modelling on Selected features"
   ]
  },
  {
   "cell_type": "code",
   "execution_count": 62,
   "id": "5c4c1586",
   "metadata": {},
   "outputs": [
    {
     "name": "stdout",
     "output_type": "stream",
     "text": [
      "Training set score: 0.7888\n",
      "Test set score: 0.7576\n"
     ]
    }
   ],
   "source": [
    "dt_model_2 = DecisionTreeClassifier(min_samples_split=165,max_depth=5,random_state=42)\n",
    "\n",
    "dt_model_2.fit(X_train,y_train)\n",
    "\n",
    "y_pred = dt_model_2.predict(X_test)\n",
    "\n",
    "\n",
    "print('Training set score: {:.4f}'.format(dt_model_2.score(X_train, y_train)))\n",
    "\n",
    "print('Test set score: {:.4f}'.format(dt_model_2.score(X_test, y_test)))"
   ]
  },
  {
   "cell_type": "markdown",
   "id": "78354595",
   "metadata": {},
   "source": [
    "Here We have the good fit model where my training and testing accuracy are quite similar, to increase the efficiency will try the Hyperparameter tunning by using Gridsearch CV in further."
   ]
  },
  {
   "cell_type": "code",
   "execution_count": 63,
   "id": "4b76a327",
   "metadata": {},
   "outputs": [],
   "source": [
    "class_names = ['Low cost','Medium cost','High cost','Very High cost']"
   ]
  },
  {
   "cell_type": "code",
   "execution_count": 64,
   "id": "b015b96e",
   "metadata": {},
   "outputs": [
    {
     "data": {
      "image/png": "[encoded data removed]",
      "text/plain": [
       "<Figure size 432x288 with 1 Axes>"
      ]
     },
     "metadata": {
      "needs_background": "light"
     },
     "output_type": "display_data"
    }
   ],
   "source": [
    "disp = plot_confusion_matrix(dt_model_2, X_test, y_test,\n",
    "                                 display_labels=class_names,\n",
    "                                 cmap=plt.cm.Blues,xticks_rotation='vertical',colorbar=False)\n",
    "plt.show()"
   ]
  },
  {
   "cell_type": "markdown",
   "id": "3cd9dcef",
   "metadata": {},
   "source": [
    "## Performance for Selected Features All Classes"
   ]
  },
  {
   "cell_type": "code",
   "execution_count": 65,
   "id": "9de6c5b4",
   "metadata": {},
   "outputs": [],
   "source": [
    "cnf_matrix =  confusion_matrix(y_test,y_pred)"
   ]
  },
  {
   "cell_type": "code",
   "execution_count": 66,
   "id": "8f0cb1d7",
   "metadata": {},
   "outputs": [
    {
     "name": "stdout",
     "output_type": "stream",
     "text": [
      "False Positive for 0 are 17.0 \n",
      "\n",
      " False Negative for 0 are 20.0 \n",
      "\n",
      " True Positive for 0 are 149.0 \n",
      "\n",
      " True Negative for 0 are 474.0 \n",
      "\n",
      " Sensitivity for 0 are 0.8816568047337278 \n",
      "\n",
      " Specificity for 0 are 0.9653767820773931 \n",
      "\n",
      " Precision for 0 are 0.8975903614457831 \n",
      "\n",
      " Negative predictive value for 0 are 0.9595141700404858 \n",
      "\n",
      " false positive rate for 0 are 0.034623217922606926 \n",
      "\n",
      " False negative rate for 0 are 0.11834319526627218 \n",
      "\n",
      " False discovery rate for 0 are 0.10240963855421686 \n",
      "\n",
      " Overall accuracy for 0 are 0.943939393939394 \n",
      "\n",
      " Null accuracy for 0 are 74.39 \n",
      "\n",
      " ===================================================================\n"
     ]
    }
   ],
   "source": [
    "classes(0)"
   ]
  },
  {
   "cell_type": "markdown",
   "id": "78e6fa7b",
   "metadata": {},
   "source": [
    "## Hyper parameter tunning"
   ]
  },
  {
   "cell_type": "code",
   "execution_count": 67,
   "id": "13cc7485",
   "metadata": {},
   "outputs": [],
   "source": [
    "dt_model_3 = DecisionTreeClassifier(random_state=42)"
   ]
  },
  {
   "cell_type": "markdown",
   "id": "69d0db34",
   "metadata": {},
   "source": [
    "Using Grid search cv for tunning the parameters of Logistic Regression.\n",
    "\n",
    "The parameters which we are using is L1 and L2 for penalty and the C , and solver."
   ]
  },
  {
   "cell_type": "code",
   "execution_count": 68,
   "id": "7e904839",
   "metadata": {},
   "outputs": [
    {
     "name": "stdout",
     "output_type": "stream",
     "text": [
      "Fitting 10 folds for each of 50 candidates, totalling 500 fits\n"
     ]
    },
    {
     "data": {
      "text/plain": [
       "GridSearchCV(cv=10, estimator=DecisionTreeClassifier(random_state=42),\n",
       "             n_jobs=-1,\n",
       "             param_grid={'criterion': ['gini', 'entropy'],\n",
       "                         'max_depth': [2, 3, 5, 10, 20],\n",
       "                         'min_samples_leaf': [5, 10, 20, 50, 100]},\n",
       "             scoring='accuracy', verbose=1)"
      ]
     },
     "execution_count": 68,
     "metadata": {},
     "output_type": "execute_result"
    }
   ],
   "source": [
    "params = {\n",
    "    'max_depth': [2, 3, 5, 10, 20],\n",
    "    'min_samples_leaf': [5, 10, 20, 50, 100],\n",
    "    'criterion': [\"gini\", \"entropy\"]\n",
    "}\n",
    "\n",
    "\n",
    "\n",
    "grid_search = GridSearchCV(estimator=dt_model_3, \n",
    "                           param_grid=params, \n",
    "                           cv=10, n_jobs=-1, verbose=1, scoring = \"accuracy\")\n",
    "\n",
    "\n",
    "grid_search.fit(X_train, y_train)"
   ]
  },
  {
   "cell_type": "code",
   "execution_count": 69,
   "id": "b058e694",
   "metadata": {},
   "outputs": [],
   "source": [
    "dt_best = grid_search.best_estimator_"
   ]
  },
  {
   "cell_type": "markdown",
   "id": "bb52811d",
   "metadata": {},
   "source": [
    "Storing the Best Estimators and will use the best estimator to predict."
   ]
  },
  {
   "cell_type": "code",
   "execution_count": 70,
   "id": "0eb9b4c2",
   "metadata": {},
   "outputs": [
    {
     "data": {
      "text/plain": [
       "DecisionTreeClassifier(criterion='entropy', max_depth=10, min_samples_leaf=5,\n",
       "                       random_state=42)"
      ]
     },
     "execution_count": 70,
     "metadata": {},
     "output_type": "execute_result"
    }
   ],
   "source": [
    "dt_best.fit(X_train,y_train)"
   ]
  },
  {
   "cell_type": "code",
   "execution_count": 71,
   "id": "53889096",
   "metadata": {},
   "outputs": [],
   "source": [
    "y_pred = dt_best.predict(X_test)"
   ]
  },
  {
   "cell_type": "code",
   "execution_count": 72,
   "id": "9b9989a4",
   "metadata": {},
   "outputs": [
    {
     "name": "stdout",
     "output_type": "stream",
     "text": [
      "Training set score: 0.9515\n",
      "Test set score: 0.8394\n"
     ]
    }
   ],
   "source": [
    "print('Training set score: {:.4f}'.format(dt_best.score(X_train, y_train)))\n",
    "\n",
    "print('Test set score: {:.4f}'.format(dt_best.score(X_test, y_test)))"
   ]
  },
  {
   "cell_type": "markdown",
   "id": "60f0c731",
   "metadata": {},
   "source": [
    "Without hyper parameter we have accuracy of training is 95 % where as testing accuracy is 83 % which also leads to some kind of overfitting."
   ]
  },
  {
   "cell_type": "markdown",
   "id": "daba8fc5",
   "metadata": {},
   "source": [
    "# Conclusion:\n",
    "\n",
    "\n",
    "1. Data is appropriately distributed in the categories.\n",
    "2. Using Hyper parameter in the selected features are not performing up to the mark we should go for the selected features without tunning the parameters.\n",
    "3. Model is performing really well with all the features and with the top selected features with the accuracy of more than 95%.\n",
    "4. Tried to fit the model without scalling the features which was giving the poor accuracy of somewhere around 66%.\n",
    "\n",
    "5. I would selet the log_model_2 for the further predictions."
   ]
  }
 ],
 "metadata": {
  "kernelspec": {
   "display_name": "Python 3",
   "language": "python",
   "name": "python3"
  },
  "language_info": {
   "codemirror_mode": {
    "name": "ipython",
    "version": 3
   },
   "file_extension": ".py",
   "mimetype": "text/x-python",
   "name": "python",
   "nbconvert_exporter": "python",
   "pygments_lexer": "ipython3",
   "version": "3.8.8"
  }
 },
 "nbformat": 4,
 "nbformat_minor": 5
}
